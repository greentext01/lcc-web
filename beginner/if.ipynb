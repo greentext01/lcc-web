{
 "cells": [
  {
   "cell_type": "code",
   "execution_count": null,
   "metadata": {},
   "outputs": [],
   "source": [
    "descision = input(\"Yes/No: \")\n",
    "\n",
    "if descision == \"Yes\":\n",
    "    print(\"Hello!\")\n",
    "elif descision == \"No\":\n",
    "    print(\"You answered no.\")\n",
    "else:\n",
    "    print(\"Invalid answer\")\n"
   ]
  }
 ],
 "metadata": {
  "kernelspec": {
   "display_name": "Python 3.10.7 64-bit",
   "language": "python",
   "name": "python3"
  },
  "language_info": {
   "name": "python",
   "version": "3.10.7"
  },
  "orig_nbformat": 4,
  "vscode": {
   "interpreter": {
    "hash": "edd0afccf95045bc144babff98c19ffaebf18d20fe7bc411705c05eb963f2603"
   }
  }
 },
 "nbformat": 4,
 "nbformat_minor": 2
}
