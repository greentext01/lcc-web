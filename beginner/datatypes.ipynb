{
 "cells": [
  {
   "cell_type": "code",
   "execution_count": null,
   "metadata": {},
   "outputs": [],
   "source": [
    "definitions = {\n",
    "    \"house\": \"a building for human habitation, especially one that is lived in by a family or small group of people.\",\n",
    "    \"bike\": \"a bicycle or motorcycle\",\n",
    "}\n",
    "\n",
    "print(definitions[\"house\"])\n",
    "print(definitions[\"bike\"])\n"
   ]
  },
  {
   "cell_type": "code",
   "execution_count": null,
   "metadata": {},
   "outputs": [],
   "source": [
    "items = set()\n",
    "\n",
    "items.add(\"house\")\n",
    "items.add(\"bike\")\n",
    "items.add(\"bike\")\n",
    "\n",
    "# \"Bike\" is there only once.\n",
    "print(items)"
   ]
  },
  {
   "cell_type": "code",
   "execution_count": 2,
   "metadata": {},
   "outputs": [
    {
     "data": {
      "text/plain": [
       "tuple"
      ]
     },
     "execution_count": 2,
     "metadata": {},
     "output_type": "execute_result"
    }
   ],
   "source": [
    "items = (\"house\", \"bike\")\n",
    "\n",
    "# You can't append"
   ]
  },
  {
   "cell_type": "code",
   "execution_count": 4,
   "metadata": {},
   "outputs": [
    {
     "name": "stdout",
     "output_type": "stream",
     "text": [
      "['house', 'bike', 'bike']\n"
     ]
    }
   ],
   "source": [
    "items = []\n",
    "items.append(\"house\")\n",
    "items.append(\"bike\")\n",
    "items.append(\"bike\")\n",
    "\n",
    "print(items)"
   ]
  }
 ],
 "metadata": {
  "kernelspec": {
   "display_name": "Python 3.10.7 64-bit",
   "language": "python",
   "name": "python3"
  },
  "language_info": {
   "codemirror_mode": {
    "name": "ipython",
    "version": 3
   },
   "file_extension": ".py",
   "mimetype": "text/x-python",
   "name": "python",
   "nbconvert_exporter": "python",
   "pygments_lexer": "ipython3",
   "version": "3.10.7"
  },
  "orig_nbformat": 4,
  "vscode": {
   "interpreter": {
    "hash": "edd0afccf95045bc144babff98c19ffaebf18d20fe7bc411705c05eb963f2603"
   }
  }
 },
 "nbformat": 4,
 "nbformat_minor": 2
}
